{
  "nbformat": 4,
  "nbformat_minor": 0,
  "metadata": {
    "colab": {
      "name": "Sales_Prediction.ipynb",
      "version": "0.3.2",
      "provenance": [],
      "private_outputs": true,
      "include_colab_link": true
    },
    "kernelspec": {
      "name": "python3",
      "display_name": "Python 3"
    },
    "accelerator": "GPU"
  },
  "cells": [
    {
      "cell_type": "markdown",
      "metadata": {
        "id": "view-in-github",
        "colab_type": "text"
      },
      "source": [
        "<a href=\"https://colab.research.google.com/github/ratan-asthana/ratan-repositiory/blob/master/Sales_Prediction.ipynb\" target=\"_parent\"><img src=\"https://colab.research.google.com/assets/colab-badge.svg\" alt=\"Open In Colab\"/></a>"
      ]
    },
    {
      "cell_type": "code",
      "metadata": {
        "id": "QttoLP4eejGq",
        "colab_type": "code",
        "colab": {}
      },
      "source": [
        "import pandas as pd\n",
        "import numpy as np\n",
        "import matplotlib.pyplot as plt"
      ],
      "execution_count": 0,
      "outputs": []
    },
    {
      "cell_type": "code",
      "metadata": {
        "id": "11b9zRqLe1qk",
        "colab_type": "code",
        "colab": {}
      },
      "source": [
        "#shop_data = pd.read_csv(\"C:/Users/Kaggle_Data/Extracted_Data/shops.csv\")"
      ],
      "execution_count": 0,
      "outputs": []
    },
    {
      "cell_type": "code",
      "metadata": {
        "id": "3HGZByxVfBAs",
        "colab_type": "code",
        "colab": {}
      },
      "source": [
        "from google.colab import files"
      ],
      "execution_count": 0,
      "outputs": []
    },
    {
      "cell_type": "code",
      "metadata": {
        "id": "SOpI8rOOCKhZ",
        "colab_type": "code",
        "colab": {}
      },
      "source": [
        "uploaded = files.upload()"
      ],
      "execution_count": 0,
      "outputs": []
    },
    {
      "cell_type": "code",
      "metadata": {
        "id": "OqSTpH0qCVIg",
        "colab_type": "code",
        "colab": {}
      },
      "source": [
        "pd.read_csv('test.csv')"
      ],
      "execution_count": 0,
      "outputs": []
    },
    {
      "cell_type": "code",
      "metadata": {
        "id": "gzjW4yVgDaym",
        "colab_type": "code",
        "colab": {}
      },
      "source": [
        "pd.read_csv('items.csv')"
      ],
      "execution_count": 0,
      "outputs": []
    },
    {
      "cell_type": "code",
      "metadata": {
        "id": "uLG1D8zqDecI",
        "colab_type": "code",
        "colab": {}
      },
      "source": [
        "shop_data = pd.read_csv('shops.csv')"
      ],
      "execution_count": 0,
      "outputs": []
    },
    {
      "cell_type": "code",
      "metadata": {
        "id": "odyLyHoJPolt",
        "colab_type": "code",
        "colab": {}
      },
      "source": [
        "item_data = pd.read_csv('items.csv')"
      ],
      "execution_count": 0,
      "outputs": []
    },
    {
      "cell_type": "code",
      "metadata": {
        "id": "OehiuFwOQE9f",
        "colab_type": "code",
        "colab": {}
      },
      "source": [
        "item_categories = pd.read_csv('item_categories.csv')"
      ],
      "execution_count": 0,
      "outputs": []
    },
    {
      "cell_type": "code",
      "metadata": {
        "id": "tb5KFAFgQPJs",
        "colab_type": "code",
        "colab": {}
      },
      "source": [
        "train_data = pd.read_csv('sales_train_v2.csv' , parse_dates=['date'])"
      ],
      "execution_count": 0,
      "outputs": []
    },
    {
      "cell_type": "code",
      "metadata": {
        "id": "AjZyS_CwQd-c",
        "colab_type": "code",
        "colab": {}
      },
      "source": [
        "train_data.head()"
      ],
      "execution_count": 0,
      "outputs": []
    },
    {
      "cell_type": "code",
      "metadata": {
        "id": "ZVnbSPVjRsI1",
        "colab_type": "code",
        "colab": {}
      },
      "source": [
        "test_data = pd.read_csv('test.csv')"
      ],
      "execution_count": 0,
      "outputs": []
    },
    {
      "cell_type": "code",
      "metadata": {
        "id": "EcAu7g5XR1mE",
        "colab_type": "code",
        "colab": {}
      },
      "source": [
        "test_data.head()"
      ],
      "execution_count": 0,
      "outputs": []
    },
    {
      "cell_type": "code",
      "metadata": {
        "id": "22JVrUVaR5xs",
        "colab_type": "code",
        "colab": {}
      },
      "source": [
        "item_categories.head()"
      ],
      "execution_count": 0,
      "outputs": []
    },
    {
      "cell_type": "code",
      "metadata": {
        "id": "Lw-yu7KaSjkE",
        "colab_type": "code",
        "colab": {}
      },
      "source": [
        "# joining the tables \n",
        "\n",
        "'''\n",
        "here we are joining the data from different sources , the rsuffix is being used in case overlapping of similar columns happen then \n",
        " there should not be any value error so it will append the '_' towards the common value\n",
        " later on in the drop command we are dropping the similar values\n",
        "'''\n",
        "\n",
        "training_set = train_data.join(item_data , on='item_id' , rsuffix='_').join(shop_data , on='shop_id' , rsuffix='_').join(item_categories , on='item_category_id' , rsuffix='_').drop(['item_id_' , 'shop_id_','item_category_id_'] , axis=1)"
      ],
      "execution_count": 0,
      "outputs": []
    },
    {
      "cell_type": "code",
      "metadata": {
        "id": "1meXI8KzTD6l",
        "colab_type": "code",
        "colab": {}
      },
      "source": [
        "training_set.head()"
      ],
      "execution_count": 0,
      "outputs": []
    },
    {
      "cell_type": "code",
      "metadata": {
        "id": "t8yh1EAKTI4e",
        "colab_type": "code",
        "colab": {}
      },
      "source": [
        "# total rows and columns calculation\n",
        "\n",
        "print(\" Rows : \" ,training_set.shape[0])\n",
        "print(\" Columns : \" ,training_set.shape[1])"
      ],
      "execution_count": 0,
      "outputs": []
    },
    {
      "cell_type": "code",
      "metadata": {
        "id": "DGh8womETVT1",
        "colab_type": "code",
        "colab": {}
      },
      "source": [
        "# checking the dates - max and min dates \n",
        "\n",
        "print(\"Min date \" , training_set['date'].min().date())\n",
        "print(\"Max date \" , training_set['date'].max().date())"
      ],
      "execution_count": 0,
      "outputs": []
    },
    {
      "cell_type": "code",
      "metadata": {
        "id": "uPA1bBcHTopF",
        "colab_type": "code",
        "colab": {}
      },
      "source": [
        "#print('Months Difference : ' , )\n",
        "\n",
        "from datetime import datetime\n",
        "from dateutil import relativedelta\n",
        "date1 = datetime.strptime('2013-01-01 ', '%Y-%m-%d ')\n",
        "date2 = datetime.strptime('2015-12-10', '%Y-%m-%d')\n",
        "r = relativedelta.relativedelta(date2, date1)\n",
        "r.months * (r.years+1)"
      ],
      "execution_count": 0,
      "outputs": []
    },
    {
      "cell_type": "code",
      "metadata": {
        "id": "m9yXEXzETtRE",
        "colab_type": "code",
        "colab": {}
      },
      "source": [
        "# shop is in test data set \n",
        "\n",
        "test_shop_ids = test_data['shop_id'].unique()\n",
        "\n",
        "# items in test data set \n",
        "\n",
        "test_item_ids = test_data['item_id'].unique()"
      ],
      "execution_count": 0,
      "outputs": []
    },
    {
      "cell_type": "code",
      "metadata": {
        "id": "1fcVizGyT2Bs",
        "colab_type": "code",
        "colab": {}
      },
      "source": [
        "#test_data.head()  checking the columns in test data\n",
        "\n",
        "useful_training_set = train_data[train_data['shop_id'].isin(test_shop_ids)]"
      ],
      "execution_count": 0,
      "outputs": []
    },
    {
      "cell_type": "code",
      "metadata": {
        "id": "-JAQXEShT6IF",
        "colab_type": "code",
        "colab": {}
      },
      "source": [
        "useful_training_set = useful_training_set[useful_training_set['item_id'].isin(test_item_ids)]"
      ],
      "execution_count": 0,
      "outputs": []
    },
    {
      "cell_type": "code",
      "metadata": {
        "id": "zq8xVPiIT9kU",
        "colab_type": "code",
        "colab": {}
      },
      "source": [
        "print('Initial Data ' , train_data.shape[0])\n",
        "print('Useful Data ' , useful_training_set.shape[0])"
      ],
      "execution_count": 0,
      "outputs": []
    },
    {
      "cell_type": "code",
      "metadata": {
        "id": "kKdf7kAkUA29",
        "colab_type": "code",
        "colab": {}
      },
      "source": [
        "train_data_0_price = train_data.query('item_price == 0')\n",
        "print(train_data_0_price)\n",
        "\n",
        "# so there is no item with 0 price"
      ],
      "execution_count": 0,
      "outputs": []
    },
    {
      "cell_type": "code",
      "metadata": {
        "id": "-674OOsiUHRl",
        "colab_type": "code",
        "colab": {}
      },
      "source": [
        "train_data_negative_price = train_data.query('item_price < 0')\n",
        "print(train_data_negative_price)\n",
        "\n",
        "# there is a single record with negative price"
      ],
      "execution_count": 0,
      "outputs": []
    },
    {
      "cell_type": "code",
      "metadata": {
        "id": "-3TDKNgAUOU9",
        "colab_type": "code",
        "colab": {}
      },
      "source": [
        "selected_data = train_data.query('item_price > 0 ')\n",
        "print(selected_data.count())\n",
        "\n",
        "# so this is the selected data on which work is to be done"
      ],
      "execution_count": 0,
      "outputs": []
    },
    {
      "cell_type": "code",
      "metadata": {
        "id": "ZgsCFXfyUWqf",
        "colab_type": "code",
        "colab": {}
      },
      "source": [
        "training_set = useful_training_set[['date', 'date_block_num', 'shop_id', 'item_id', 'item_price', 'item_cnt_day']]"
      ],
      "execution_count": 0,
      "outputs": []
    },
    {
      "cell_type": "code",
      "metadata": {
        "id": "DYgMBv9qUcJl",
        "colab_type": "code",
        "colab": {}
      },
      "source": [
        "training_set = training_set.sort_values('date').groupby(['date_block_num', 'shop_id','item_id'] , as_index=False)"
      ],
      "execution_count": 0,
      "outputs": []
    },
    {
      "cell_type": "code",
      "metadata": {
        "id": "iRVPmzPzUfmt",
        "colab_type": "code",
        "colab": {}
      },
      "source": [
        "training_set = training_set.agg({'item_price':['sum' , 'mean'] , 'item_cnt_day':['sum' , 'mean' , 'count']})"
      ],
      "execution_count": 0,
      "outputs": []
    },
    {
      "cell_type": "code",
      "metadata": {
        "id": "gxrlNbM-UjE1",
        "colab_type": "code",
        "colab": {}
      },
      "source": [
        "training_set.columns = ['date_block_num', 'shop_id', 'item_id', 'item_price', 'mean_item_price', 'item_cnt', 'mean_item_cnt', 'transactions']\n",
        "\n",
        "training_set.head()"
      ],
      "execution_count": 0,
      "outputs": []
    },
    {
      "cell_type": "code",
      "metadata": {
        "id": "ISRvntIIUrM9",
        "colab_type": "code",
        "colab": {}
      },
      "source": [
        "type(training_set)\n",
        "\n",
        "shop_ids = training_set['shop_id'].unique()\n",
        "item_ids = training_set['item_id'].unique()\n",
        "print(shop_ids)\n",
        "print(item_ids)"
      ],
      "execution_count": 0,
      "outputs": []
    },
    {
      "cell_type": "code",
      "metadata": {
        "id": "y4mVjYT2Vmm9",
        "colab_type": "code",
        "colab": {}
      },
      "source": [
        "empty_df = []\n",
        "for i in range(33):\n",
        "  for shop in shop_ids:\n",
        "    for item in item_ids:\n",
        "      empty_df.append([i,shop,item])\n",
        "\n",
        "\n",
        "empty_df = pd.DataFrame(empty_df,columns=['date_block_num' , 'shop_id' , 'item_id'])\n",
        "empty_df.head()\n",
        "\n",
        "#training_set.plot(x='item_price' , y='item_cnt_day' , kind='scatter')\n",
        "\n",
        "# it should be of same size\n",
        "\n",
        "#training_set.columns = \n",
        "\n",
        "#training_set.head()\n"
      ],
      "execution_count": 0,
      "outputs": []
    },
    {
      "cell_type": "code",
      "metadata": {
        "id": "IQ2HfDkdWh5t",
        "colab_type": "code",
        "colab": {}
      },
      "source": [
        "# merging the train set with complete set\n",
        "\n",
        "# merge syntax : pandas.merge(left_dataframe , right_dataframe , left_on(column of left dataframe) , right_on(column of right dataframe) , how(join type like inner , left))\n",
        "\n",
        "\n",
        "training_set = pd.merge(empty_df , training_set , on=['date_block_num' , 'shop_id' , 'item_id'] , how='left')\n",
        "training_set.fillna(0 , inplace=True)"
      ],
      "execution_count": 0,
      "outputs": []
    },
    {
      "cell_type": "code",
      "metadata": {
        "id": "w9ALqjMieDeG",
        "colab_type": "code",
        "colab": {}
      },
      "source": [
        "training_set.head().T"
      ],
      "execution_count": 0,
      "outputs": []
    },
    {
      "cell_type": "code",
      "metadata": {
        "id": "Lh4FRs5bhW_E",
        "colab_type": "code",
        "colab": {}
      },
      "source": [
        "training_set['year'] = training_set['date_block_num'].apply(lambda x: ((x//12) + 2013 ))\n",
        "training_set['monthly'] = training_set['date_block_num'].apply(lambda x: (x%12))"
      ],
      "execution_count": 0,
      "outputs": []
    },
    {
      "cell_type": "code",
      "metadata": {
        "id": "32J5m5_uhhgG",
        "colab_type": "code",
        "colab": {}
      },
      "source": [
        "# grouping data for EDA - \n",
        "\n",
        "#grp_month_mean = training_set.groupby(['monthly'] , as_index=False)['item_price, mean'].mean()\n",
        "\n",
        "grp_month_mean = training_set.groupby(['monthly'] , as_index=False)['item_cnt'].mean()\n",
        "grp_month_sum = training_set.groupby(['monthly'] , as_index=False)['item_cnt'].sum()\n",
        "grp_shop_mean = training_set.groupby(['shop_id'] , as_index=False)['item_cnt'].mean()\n",
        "grp_shop_sum = training_set.groupby(['shop_id'] , as_index=False)['item_cnt'].sum()\n",
        "\n"
      ],
      "execution_count": 0,
      "outputs": []
    },
    {
      "cell_type": "code",
      "metadata": {
        "id": "_NkSguY9wWQr",
        "colab_type": "code",
        "colab": {}
      },
      "source": [
        "import seaborn as sns\n",
        "f , axes = plt.subplots(2 , 1 , figsize=(22,10) , sharex=True)\n",
        "sns.lineplot(x=\"monthly\" , y=\"item_cnt\" , data = grp_month_mean , ax=axes[0]).set_title(\"Monthly Mean\")\n",
        "sns.lineplot(x=\"monthly\" , y=\"item_cnt\" , data = grp_month_sum , ax=axes[1]).set_title(\"Monthly Sum\")\n",
        "plt.show()"
      ],
      "execution_count": 0,
      "outputs": []
    },
    {
      "cell_type": "code",
      "metadata": {
        "id": "TFIUOjfIzntw",
        "colab_type": "code",
        "colab": {}
      },
      "source": [
        "f , axes = plt.subplots(2,1, figsize=(22,10),sharex=True)\n",
        "sns.barplot(x=\"shop_id\" , y=\"item_cnt\" , data=grp_shop_mean , ax=axes[0] , palette=\"rocket\" ).set_title(\"Monthly Mean\")\n",
        "sns.barplot(x=\"shop_id\" , y=\"item_cnt\" , data=grp_shop_sum , ax=axes[1] , palette=\"rocket\" ).set_title(\"Monthly Sum\")\n",
        "plt.show()"
      ],
      "execution_count": 0,
      "outputs": []
    },
    {
      "cell_type": "code",
      "metadata": {
        "id": "eyRmC_50822G",
        "colab_type": "code",
        "colab": {}
      },
      "source": [
        "# checking outliers \n",
        "\n",
        "#sns.jointplot(x=\"item_cnt\", y=\"item_price\", data=train_monthly, height=8)\n",
        "# boxplot\n",
        "# seaborn.boxplot(x=None, y=None, hue=None, data=None, order=None, hue_order=None, orient=None, color=None, \n",
        "#palette=None, saturation=0.75, width=0.8, dodge=True, fliersize=5, linewidth=None, whis=1.5, notch=False, ax=None, **kwargs\n",
        "\n",
        "sns.boxplot(x=\"item_cnt\" , y=\"item_price\" , data=training_set , linewidth=1.5 )\n",
        "plt.show()"
      ],
      "execution_count": 0,
      "outputs": []
    },
    {
      "cell_type": "code",
      "metadata": {
        "id": "JYiO7PzE-wv6",
        "colab_type": "code",
        "colab": {}
      },
      "source": [
        "sns.jointplot(x=\"item_cnt\", y=\"item_price\", data=training_set, height=8)\n",
        "plt.show()"
      ],
      "execution_count": 0,
      "outputs": []
    },
    {
      "cell_type": "code",
      "metadata": {
        "id": "enYyJU8u_QGN",
        "colab_type": "code",
        "colab": {}
      },
      "source": [
        "sns.boxplot(training_set['item_cnt'])\n",
        "plt.show()"
      ],
      "execution_count": 0,
      "outputs": []
    },
    {
      "cell_type": "code",
      "metadata": {
        "id": "qaUJq_URBfjd",
        "colab_type": "code",
        "colab": {}
      },
      "source": [
        "sns.boxplot(training_set['item_price'])\n",
        "plt.show()"
      ],
      "execution_count": 0,
      "outputs": []
    },
    {
      "cell_type": "code",
      "metadata": {
        "id": "00tzHK6hBwwF",
        "colab_type": "code",
        "colab": {}
      },
      "source": [
        ""
      ],
      "execution_count": 0,
      "outputs": []
    }
  ]
}